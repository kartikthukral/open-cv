{
 "cells": [
  {
   "cell_type": "code",
   "execution_count": 1,
   "id": "df43861f",
   "metadata": {},
   "outputs": [],
   "source": [
    "#Task 4.2\n",
    "import cv2"
   ]
  },
  {
   "cell_type": "code",
   "execution_count": 9,
   "id": "5e151c8f",
   "metadata": {},
   "outputs": [
    {
     "data": {
      "text/plain": [
       "(480, 640, 3)"
      ]
     },
     "execution_count": 9,
     "metadata": {},
     "output_type": "execute_result"
    }
   ],
   "source": [
    "sallu = cv2.imread(\"SalmanKhan.jpg\")\n",
    "sallu.shape"
   ]
  },
  {
   "cell_type": "code",
   "execution_count": 10,
   "id": "44ca7829",
   "metadata": {},
   "outputs": [
    {
     "data": {
      "text/plain": [
       "(480, 640, 3)"
      ]
     },
     "execution_count": 10,
     "metadata": {},
     "output_type": "execute_result"
    }
   ],
   "source": [
    "srk=cv2.imread(\"SRK.jpg\")\n",
    "srk.shape"
   ]
  },
  {
   "cell_type": "code",
   "execution_count": 4,
   "id": "2ab91cce",
   "metadata": {},
   "outputs": [],
   "source": [
    "cv2.imshow(\"Salman_Khan\",sallu)\n",
    "cv2.waitKey()\n",
    "cv2.destroyAllWindows()"
   ]
  },
  {
   "cell_type": "code",
   "execution_count": 6,
   "id": "dca801ad",
   "metadata": {},
   "outputs": [],
   "source": [
    "cv2.imshow(\"Shah_Ruk_Khan\",srk)\n",
    "cv2.waitKey()\n",
    "cv2.destroyAllWindows()"
   ]
  },
  {
   "cell_type": "code",
   "execution_count": 7,
   "id": "f4f5e20e",
   "metadata": {},
   "outputs": [],
   "source": [
    "#Crop and Swap\n",
    "sallu_crop = sallu[10:310,150:400]\n",
    "srk[10:310,150:400]=sallu_crop\n",
    "cv2.imshow(\"swap\",srk)\n",
    "cv2.waitKey()\n",
    "cv2.destroyAllWindows()"
   ]
  },
  {
   "cell_type": "code",
   "execution_count": 11,
   "id": "24f7a6b5",
   "metadata": {},
   "outputs": [],
   "source": [
    "#Crop and Wwap\n",
    "srk_crop = srk[10:310,150:400]\n",
    "sallu[10:310,150:400]=srk_crop\n",
    "cv2.imshow(\"swap\",sallu)\n",
    "cv2.waitKey()\n",
    "cv2.destroyAllWindows()"
   ]
  }
 ],
 "metadata": {
  "kernelspec": {
   "display_name": "Python 3",
   "language": "python",
   "name": "python3"
  },
  "language_info": {
   "codemirror_mode": {
    "name": "ipython",
    "version": 3
   },
   "file_extension": ".py",
   "mimetype": "text/x-python",
   "name": "python",
   "nbconvert_exporter": "python",
   "pygments_lexer": "ipython3",
   "version": "3.8.8"
  }
 },
 "nbformat": 4,
 "nbformat_minor": 5
}
