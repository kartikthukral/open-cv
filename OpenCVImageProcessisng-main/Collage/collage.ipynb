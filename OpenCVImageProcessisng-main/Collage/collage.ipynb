{
 "cells": [
  {
   "cell_type": "code",
   "execution_count": 9,
   "id": "20decd32",
   "metadata": {},
   "outputs": [],
   "source": [
    "import numpy as np\n",
    "import cv2"
   ]
  },
  {
   "cell_type": "code",
   "execution_count": 10,
   "id": "7fff2ce0",
   "metadata": {},
   "outputs": [],
   "source": [
    "#reading each image\n",
    "img_1 = cv2.imread('img1.jpeg')\n",
    "img_2 = cv2.imread('img2.png')"
   ]
  },
  {
   "cell_type": "code",
   "execution_count": 11,
   "id": "15400b3b",
   "metadata": {},
   "outputs": [],
   "source": [
    "#making all the images of same size \n",
    "#using resize method\n",
    "img_1 = cv2.resize(img_1,(300,300))\n",
    "img_2 = cv2.resize(img_2,(300,300))"
   ]
  },
  {
   "cell_type": "code",
   "execution_count": 12,
   "id": "fdd7133b",
   "metadata": {},
   "outputs": [],
   "source": [
    "#using stack method for pairing\n",
    "h1 = np.hstack((img_1,img_2))\n",
    "h2 = np.hstack((img_2,img_1))"
   ]
  },
  {
   "cell_type": "code",
   "execution_count": 13,
   "id": "4eda037c",
   "metadata": {},
   "outputs": [],
   "source": [
    "v = np.vstack((h1,h2))"
   ]
  },
  {
   "cell_type": "code",
   "execution_count": 14,
   "id": "02de5ca4",
   "metadata": {},
   "outputs": [],
   "source": [
    "#final result\n",
    "cv2.imshow('Collage',v)\n",
    "cv2.waitKey()\n",
    "cv2.destroyAllWindows()"
   ]
  },
  {
   "cell_type": "code",
   "execution_count": null,
   "id": "3c14fbac",
   "metadata": {},
   "outputs": [],
   "source": []
  }
 ],
 "metadata": {
  "kernelspec": {
   "display_name": "Python 3",
   "language": "python",
   "name": "python3"
  },
  "language_info": {
   "codemirror_mode": {
    "name": "ipython",
    "version": 3
   },
   "file_extension": ".py",
   "mimetype": "text/x-python",
   "name": "python",
   "nbconvert_exporter": "python",
   "pygments_lexer": "ipython3",
   "version": "3.9.5"
  }
 },
 "nbformat": 4,
 "nbformat_minor": 5
}
